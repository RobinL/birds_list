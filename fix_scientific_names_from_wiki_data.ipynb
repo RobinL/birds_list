{
 "cells": [
  {
   "cell_type": "code",
   "execution_count": 1,
   "metadata": {},
   "outputs": [],
   "source": [
    "import pandas as pd \n",
    "pd.options.display.max_columns = 100"
   ]
  },
  {
   "cell_type": "code",
   "execution_count": null,
   "metadata": {},
   "outputs": [],
   "source": [
    "wiki_list = pd.read_csv(\"list_from_wikipedia.csv\")\n",
    "wiki_list[\"scientific_name\"] = wiki_list[\"Common and binomial names\"].str.extract(\"\\((.+)\\)\")\n",
    "wiki_list[\"common_name\"] = wiki_list[\"Common and binomial names\"].str.extract(\"([^\\(]+)\")\n",
    "wiki_list[\"common_name_lower_wiki\"] = wiki_list[\"common_name\"].str.lower()\n",
    "wiki_list[\"scientific_name_lower_wiki\"] = wiki_list[\"scientific_name\"].str.lower()\n",
    "\n",
    "wiki_list = wiki_list.drop([\"Common and binomial names\", \"Image\", \"scientific_name\", \"common_name\"], axis=1)\n",
    "wiki_list = wiki_list.rename(columns={\"Status\": \"wiki_status\"})\n",
    "wiki_list.head(2)"
   ]
  },
  {
   "cell_type": "code",
   "execution_count": null,
   "metadata": {},
   "outputs": [],
   "source": [
    "british_list = pd.read_csv(\"the_british_list.csv\")\n",
    "british_list[\"common_name_lower_bl\"] = british_list[\"common_name\"].str.lower()\n",
    "british_list[\"scientific_name_lower_bl\"] = british_list[\"scientific_name\"].str.lower()\n",
    "british_list.head(2)"
   ]
  },
  {
   "cell_type": "code",
   "execution_count": null,
   "metadata": {},
   "outputs": [],
   "source": []
  },
  {
   "cell_type": "code",
   "execution_count": null,
   "metadata": {},
   "outputs": [],
   "source": [
    "merged = british_list.merge(wiki_list, left_on=\"common_name_lower_bl\", right_on=\"common_name_lower_wiki\", how=\"left\")\n",
    "f1 = merged[\"scientific_name_lower_bl\"] != merged[\"scientific_name_lower_wiki\"]\n",
    "cols = [\"common_name_lower_bl\", \"common_name_lower_wiki\", \"scientific_name_lower_bl\", \"scientific_name_lower_wiki\"]\n",
    "# m = merged[f1]\n",
    "m = merged\n",
    "m = m.drop([\"common_name_lower_bl\", \"common_name_lower_wiki\"], axis=1)\n",
    "m[\"scientific_name_lower_wiki\"] = m[\"scientific_name_lower_wiki\"].fillna(\"\")\n",
    "m.sample(3)"
   ]
  },
  {
   "cell_type": "code",
   "execution_count": null,
   "metadata": {},
   "outputs": [],
   "source": [
    "len(m)"
   ]
  },
  {
   "cell_type": "code",
   "execution_count": 10,
   "metadata": {},
   "outputs": [
    {
     "name": "stdout",
     "output_type": "stream",
     "text": [
      "calling api for Anas crecca carolinensis\n"
     ]
    },
    {
     "data": {
      "text/html": [
       "<div>\n",
       "<style scoped>\n",
       "    .dataframe tbody tr th:only-of-type {\n",
       "        vertical-align: middle;\n",
       "    }\n",
       "\n",
       "    .dataframe tbody tr th {\n",
       "        vertical-align: top;\n",
       "    }\n",
       "\n",
       "    .dataframe thead th {\n",
       "        text-align: right;\n",
       "    }\n",
       "</style>\n",
       "<table border=\"1\" class=\"dataframe\">\n",
       "  <thead>\n",
       "    <tr style=\"text-align: right;\">\n",
       "      <th></th>\n",
       "      <th>name</th>\n",
       "      <th>rank</th>\n",
       "      <th>preferred_common_name</th>\n",
       "      <th>names</th>\n",
       "      <th>id</th>\n",
       "    </tr>\n",
       "  </thead>\n",
       "  <tbody>\n",
       "    <tr>\n",
       "      <th>0</th>\n",
       "      <td>Anas crecca carolinensis</td>\n",
       "      <td>subspecies</td>\n",
       "      <td>American Green-winged Teal</td>\n",
       "      <td>[{'is_valid': True, 'name': 'Anas crecca carol...</td>\n",
       "      <td>123676</td>\n",
       "    </tr>\n",
       "    <tr>\n",
       "      <th>1</th>\n",
       "      <td>Anas crecca crecca × carolinensis</td>\n",
       "      <td>infrahybrid</td>\n",
       "      <td>Eurasian × American Green-winged Teal</td>\n",
       "      <td>[{'is_valid': True, 'name': 'Anas crecca crecc...</td>\n",
       "      <td>533247</td>\n",
       "    </tr>\n",
       "  </tbody>\n",
       "</table>\n",
       "</div>"
      ],
      "text/plain": [
       "                                name         rank  \\\n",
       "0           Anas crecca carolinensis   subspecies   \n",
       "1  Anas crecca crecca × carolinensis  infrahybrid   \n",
       "\n",
       "                   preferred_common_name  \\\n",
       "0             American Green-winged Teal   \n",
       "1  Eurasian × American Green-winged Teal   \n",
       "\n",
       "                                               names      id  \n",
       "0  [{'is_valid': True, 'name': 'Anas crecca carol...  123676  \n",
       "1  [{'is_valid': True, 'name': 'Anas crecca crecc...  533247  "
      ]
     },
     "execution_count": 10,
     "metadata": {},
     "output_type": "execute_result"
    }
   ],
   "source": [
    "import requests \n",
    "import json\n",
    "def call_taxa(taxon_name):\n",
    "    print(f\"calling api for {taxon_name}\")\n",
    "    endpoint = 'https://api.inaturalist.org/v1/taxa'\n",
    "    params = {\n",
    "        \"q\": taxon_name,\n",
    "        \"page\":1,\n",
    "        \"all_names\": True\n",
    "    }\n",
    "    \n",
    "    r = requests.get(endpoint, params)\n",
    "    \n",
    "    results = json.loads(r.text) \n",
    "    \n",
    "    df = pd.DataFrame(results[\"results\"])\n",
    "\n",
    "    cols = [\"name\", \"rank\", \"preferred_common_name\", \"names\", \"id\"]\n",
    "    return df[cols]\n",
    "\n",
    "results = call_taxa(\"Anas crecca carolinensis\")\n",
    "results.head(2)"
   ]
  },
  {
   "cell_type": "code",
   "execution_count": null,
   "metadata": {},
   "outputs": [],
   "source": [
    "def find_in_results(results, wiki_bl_row):\n",
    "    \n",
    "    \n",
    "    # Only results that match the one of the \n",
    "    f1 = results[\"name\"].str.lower() == wiki_bl_row[\"scientific_name_lower_bl\"]\n",
    "    f2 = results[\"name\"].str.lower() == wiki_bl_row[\"scientific_name_lower_wiki\"]\n",
    "    f3 = results[\"preferred_common_name\"].str.lower() == wiki_bl_row[\"common_name\"].lower()\n",
    "    \n",
    "    \n",
    "    \n",
    "    results.loc[f3, \"result_priority\"] = 3\n",
    "    results.loc[f2, \"result_priority\"] = 4\n",
    "    results.loc[f1, \"result_priority\"] = 5\n",
    "    results.loc[f3 & f2, \"result_priority\"] = 1\n",
    "    results.loc[f3 & f1, \"result_priority\"] = 2\n",
    "    \n",
    "    \n",
    "    results_f = results[f1 | f2 | f3 ].sort_values(\"result_priority\")\n",
    "    \n",
    "    if len(results_f) == 0:\n",
    "        if len(results) == 1:\n",
    "               results_f = results\n",
    "    return results_f.iloc[0, :]\n",
    "\n",
    "\n"
   ]
  },
  {
   "cell_type": "code",
   "execution_count": null,
   "metadata": {},
   "outputs": [],
   "source": [
    "# Check against inaturalist api - go through one at a time requesting the scientific name.  If common name matches, use that taxon id\n",
    "for r in m.iterrows():\n",
    "    \n",
    "    index = r[0]\n",
    "    row = r[1]\n",
    "    print(row[\"common_name\"])\n",
    "    taxa_results = call_taxa(row[\"scientific_name\"])\n",
    "    if len(taxa_results ) == 0:\n",
    "        print(\"no results, trying wiki neame\")\n",
    "        taxa_results = call_taxa(row[\"scientific_name_lower_wiki\"])\n",
    "        if len(taxa_results ) == 0:\n",
    "            print(\"still_no_results\")\n",
    "        \n",
    "    try:\n",
    "        found = find_in_results(taxa_results, row)\n",
    "\n",
    "        m.loc[index, \"inaturalist_id\"] = found.id\n",
    "        m.loc[index, \"inaturalist_scientific_name\"] = found[\"name\"]\n",
    "        m.loc[index, \"inaturalist_common_name\"] = found.preferred_common_name\n",
    "    except IndexError:\n",
    "        print(f'Error finding {row[\"common_name\"]}')\n"
   ]
  },
  {
   "cell_type": "code",
   "execution_count": null,
   "metadata": {},
   "outputs": [],
   "source": [
    "\n",
    "m[\"inaturalist_id\"] = m[\"inaturalist_id\"].fillna(-1).astype(int)\n",
    "\n",
    "m.to_csv(\"birds_list_with_inaturalist_id.csv\", index=False)"
   ]
  },
  {
   "cell_type": "code",
   "execution_count": 3,
   "metadata": {},
   "outputs": [],
   "source": [
    "m = pd.read_csv(\"birds_list_with_inaturalist_id.csv\")"
   ]
  },
  {
   "cell_type": "code",
   "execution_count": 15,
   "metadata": {},
   "outputs": [
    {
     "data": {
      "text/html": [
       "<div>\n",
       "<style scoped>\n",
       "    .dataframe tbody tr th:only-of-type {\n",
       "        vertical-align: middle;\n",
       "    }\n",
       "\n",
       "    .dataframe tbody tr th {\n",
       "        vertical-align: top;\n",
       "    }\n",
       "\n",
       "    .dataframe thead th {\n",
       "        text-align: right;\n",
       "    }\n",
       "</style>\n",
       "<table border=\"1\" class=\"dataframe\">\n",
       "  <thead>\n",
       "    <tr style=\"text-align: right;\">\n",
       "      <th></th>\n",
       "      <th>common_name</th>\n",
       "      <th>link</th>\n",
       "      <th>scientific_name</th>\n",
       "      <th>status_in_uk</th>\n",
       "      <th>pairs_text</th>\n",
       "      <th>field_code_1</th>\n",
       "      <th>field_code_2</th>\n",
       "      <th>roughly_how_common</th>\n",
       "      <th>scientific_name_lower_bl</th>\n",
       "      <th>wiki_status</th>\n",
       "      <th>scientific_name_lower_wiki</th>\n",
       "      <th>inaturalist_id</th>\n",
       "      <th>inaturalist_scientific_name</th>\n",
       "      <th>inaturalist_common_name</th>\n",
       "    </tr>\n",
       "  </thead>\n",
       "  <tbody>\n",
       "  </tbody>\n",
       "</table>\n",
       "</div>"
      ],
      "text/plain": [
       "Empty DataFrame\n",
       "Columns: [common_name, link, scientific_name, status_in_uk, pairs_text, field_code_1, field_code_2, roughly_how_common, scientific_name_lower_bl, wiki_status, scientific_name_lower_wiki, inaturalist_id, inaturalist_scientific_name, inaturalist_common_name]\n",
       "Index: []"
      ]
     },
     "execution_count": 15,
     "metadata": {},
     "output_type": "execute_result"
    }
   ],
   "source": [
    "m[m[\"inaturalist_id\"] == -1]"
   ]
  },
  {
   "cell_type": "code",
   "execution_count": 9,
   "metadata": {},
   "outputs": [],
   "source": [
    "f1 = m[\"common_name\"] == \"Jackdaw\"\n",
    "m.loc[f1, \"inaturalist_id\"] = 8000\n",
    "m.loc[f1, \"inaturalist_scientific_name\"] = \"Corvus monedula\"\n",
    "m.loc[f1, \"inaturalist_common_name\"] = \"Eurasian Jackdaw\"\n"
   ]
  },
  {
   "cell_type": "code",
   "execution_count": 11,
   "metadata": {},
   "outputs": [],
   "source": [
    "f1 = m[\"common_name\"] == \"Green-winged Teal\"\n",
    "m.loc[f1, \"inaturalist_id\"] = 123676\n",
    "m.loc[f1, \"inaturalist_scientific_name\"] = \"Anas crecca carolinensis\"\n",
    "m.loc[f1, \"inaturalist_common_name\"] = \"American Green-winged Teal\""
   ]
  },
  {
   "cell_type": "code",
   "execution_count": 13,
   "metadata": {},
   "outputs": [],
   "source": [
    "f1 = m[\"common_name\"] == \"Baillon’s Crake\"\n",
    "m.loc[f1, \"inaturalist_id\"] = 508920\n",
    "m.loc[f1, \"inaturalist_scientific_name\"] = \"Zapornia pusilla\"\n",
    "m.loc[f1, \"inaturalist_common_name\"] = \"Baillon's Crake\"\n"
   ]
  },
  {
   "cell_type": "code",
   "execution_count": 14,
   "metadata": {},
   "outputs": [],
   "source": [
    "f1 = m[\"common_name\"] == \"Pallas’s Grasshopper Warbler\"\n",
    "m.loc[f1, \"inaturalist_id\"] = 116936\n",
    "m.loc[f1, \"inaturalist_scientific_name\"] = \"Locustella certhiola\"\n",
    "m.loc[f1, \"inaturalist_common_name\"] = \"Pallas's Grasshopper-Warbler\"\n"
   ]
  },
  {
   "cell_type": "code",
   "execution_count": 16,
   "metadata": {},
   "outputs": [],
   "source": [
    "\n",
    "m.to_csv(\"birds_list_with_inaturalist_id.csv\", index=False)"
   ]
  },
  {
   "cell_type": "code",
   "execution_count": null,
   "metadata": {},
   "outputs": [],
   "source": []
  }
 ],
 "metadata": {
  "kernelspec": {
   "display_name": "Python 3",
   "language": "python",
   "name": "python3"
  },
  "language_info": {
   "codemirror_mode": {
    "name": "ipython",
    "version": 3
   },
   "file_extension": ".py",
   "mimetype": "text/x-python",
   "name": "python",
   "nbconvert_exporter": "python",
   "pygments_lexer": "ipython3",
   "version": "3.7.6"
  }
 },
 "nbformat": 4,
 "nbformat_minor": 4
}
